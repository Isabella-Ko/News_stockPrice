{
 "cells": [
  {
   "cell_type": "markdown",
   "metadata": {
    "_uuid": "512d64e04ad0533dd72ca6bcbca4882a7f289956"
   },
   "source": []
  },
  {
   "cell_type": "code",
   "execution_count": 3,
   "metadata": {
    "_cell_guid": "b1076dfc-b9ad-4769-8c92-a6c4dae69d19",
    "_uuid": "8f2839f25d086af736a60e9eeb907d3b93b6e0e5"
   },
   "outputs": [],
   "source": [
    "import pandas as pd\n",
    "import numpy as np\n",
    "import matplotlib.pyplot as plt\n",
    "import time\n",
    "from datetime import date, datetime, timedelta\n",
    "from sklearn.metrics import accuracy_score"
   ]
  },
  {
   "cell_type": "code",
   "execution_count": 4,
   "metadata": {},
   "outputs": [],
   "source": [
    "market_train_df = pd.read_csv(\"dataset/market_train_df.csv\")\n",
    "news_train_df = pd.read_csv(\"dataset/news_train_df.csv\")"
   ]
  },
  {
   "cell_type": "code",
   "execution_count": 5,
   "metadata": {},
   "outputs": [],
   "source": [
    "market_train_df = market_train_df.astype({\n",
    "    'time': 'datetime64',\n",
    "    'assetCode': 'object',\n",
    "    'assetName': 'category',\n",
    "    'universe': 'float64',\n",
    "    'volume': 'float64',\n",
    "    'close': 'float64',\n",
    "    'open': 'float64',\n",
    "    'returnsClosePrevRaw1': 'float64',\n",
    "    'returnsOpenPrevRaw1': 'float64',\n",
    "    'returnsClosePrevMktres1': 'float64',\n",
    "    'returnsOpenPrevMktres1': 'float64',\n",
    "    'returnsClosePrevRaw10': 'float64',\n",
    "    'returnsOpenPrevRaw10': 'float64',\n",
    "    'returnsClosePrevMktres10': 'float64',\n",
    "    'returnsOpenPrevMktres10': 'float64',\n",
    "    'returnsOpenNextMktres10': 'float64'\n",
    "})"
   ]
  },
  {
   "cell_type": "code",
   "execution_count": 6,
   "metadata": {},
   "outputs": [],
   "source": [
    "news_train_df = news_train_df.astype({\n",
    "    'time': 'datetime64',\n",
    "    'sourceTimestamp': 'datetime64',\n",
    "    'firstCreated': 'datetime64',\n",
    "    'sourceId': 'object',\n",
    "    'headline': 'object',\n",
    "    'urgency': 'int8',\n",
    "    'takeSequence': 'int16',\n",
    "    'provider': 'category',\n",
    "    'subjects': 'category',\n",
    "    'audiences': 'category',\n",
    "    'bodySize': 'int32',\n",
    "    'companyCount': 'int8',\n",
    "    'headlineTag': 'object',\n",
    "    'marketCommentary': 'bool',\n",
    "    'sentenceCount': 'int16',\n",
    "    'wordCount': 'int32',\n",
    "    'assetCodes': 'category',\n",
    "    'assetName': 'category',\n",
    "    'firstMentionSentence': 'int16',\n",
    "    'relevance': 'float32',\n",
    "    'sentimentClass': 'int8',\n",
    "    'sentimentNegative': 'float32',\n",
    "    'sentimentNeutral': 'float32',\n",
    "    'sentimentPositive': 'float32',\n",
    "    'sentimentWordCount': 'int32',\n",
    "    'noveltyCount12H': 'int16',\n",
    "    'noveltyCount24H': 'int16',\n",
    "    'noveltyCount3D': 'int16',\n",
    "    'noveltyCount5D': 'int16',\n",
    "    'noveltyCount7D': 'int16',\n",
    "    'volumeCounts12H': 'int16',\n",
    "    'volumeCounts24H': 'int16',\n",
    "    'volumeCounts3D': 'int16',\n",
    "    'volumeCounts5D': 'int16',\n",
    "    'volumeCounts7D': 'int16'\n",
    "})"
   ]
  },
  {
   "cell_type": "code",
   "execution_count": 7,
   "metadata": {},
   "outputs": [
    {
     "name": "stdout",
     "output_type": "stream",
     "text": [
      "Unnamed: 0                           int64\n",
      "time                        datetime64[ns]\n",
      "assetCode                           object\n",
      "assetName                         category\n",
      "volume                             float64\n",
      "close                              float64\n",
      "open                               float64\n",
      "returnsClosePrevRaw1               float64\n",
      "returnsOpenPrevRaw1                float64\n",
      "returnsClosePrevMktres1            float64\n",
      "returnsOpenPrevMktres1             float64\n",
      "returnsClosePrevRaw10              float64\n",
      "returnsOpenPrevRaw10               float64\n",
      "returnsClosePrevMktres10           float64\n",
      "returnsOpenPrevMktres10            float64\n",
      "returnsOpenNextMktres10            float64\n",
      "universe                           float64\n",
      "dtype: object\n",
      "Unnamed: 0                       int64\n",
      "time                    datetime64[ns]\n",
      "sourceTimestamp         datetime64[ns]\n",
      "firstCreated            datetime64[ns]\n",
      "sourceId                        object\n",
      "headline                        object\n",
      "urgency                           int8\n",
      "takeSequence                     int16\n",
      "provider                      category\n",
      "subjects                      category\n",
      "audiences                     category\n",
      "bodySize                         int32\n",
      "companyCount                      int8\n",
      "headlineTag                     object\n",
      "marketCommentary                  bool\n",
      "sentenceCount                    int16\n",
      "wordCount                        int32\n",
      "assetCodes                    category\n",
      "assetName                     category\n",
      "firstMentionSentence             int16\n",
      "relevance                      float32\n",
      "sentimentClass                    int8\n",
      "sentimentNegative              float32\n",
      "sentimentNeutral               float32\n",
      "sentimentPositive              float32\n",
      "sentimentWordCount               int32\n",
      "noveltyCount12H                  int16\n",
      "noveltyCount24H                  int16\n",
      "noveltyCount3D                   int16\n",
      "noveltyCount5D                   int16\n",
      "noveltyCount7D                   int16\n",
      "volumeCounts12H                  int16\n",
      "volumeCounts24H                  int16\n",
      "volumeCounts3D                   int16\n",
      "volumeCounts5D                   int16\n",
      "volumeCounts7D                   int16\n",
      "dtype: object\n"
     ]
    }
   ],
   "source": [
    "print(market_train_df.dtypes)\n",
    "print(news_train_df.dtypes)"
   ]
  },
  {
   "cell_type": "code",
   "execution_count": 8,
   "metadata": {},
   "outputs": [],
   "source": [
    "market_train_orig = market_train_df\n",
    "news_train_orig = news_train_df"
   ]
  },
  {
   "cell_type": "markdown",
   "metadata": {
    "_uuid": "f8d8dd40919f2270d5332427eb43f57f0df2e452"
   },
   "source": [
    "# Merge & clean data"
   ]
  },
  {
   "cell_type": "code",
   "execution_count": 9,
   "metadata": {
    "_cell_guid": "79c7e3d0-c299-4dcb-8224-4455121ee9b0",
    "_uuid": "d629ff2d2480ee46fbb7e2d37f6b5fab8052498a",
    "scrolled": true
   },
   "outputs": [
    {
     "name": "stdout",
     "output_type": "stream",
     "text": [
      "Market train shape:  (4072956, 17)\n",
      "News train shape:  (9328750, 36)\n",
      "In 13 lines price increases by 50% or more in a day\n",
      "In 1 lines price decreases by 50% or more in a day\n",
      "Removing outliers ...\n",
      "Removing outliers ...\n",
      "Removing outliers ...\n",
      "Removing outliers ...\n",
      "There were 74 lines removed\n",
      "Removing strange data ...\n",
      "There were 94 lines removed\n",
      "Clipping news outliers ...\n",
      "Merging data ...\n"
     ]
    },
    {
     "name": "stderr",
     "output_type": "stream",
     "text": [
      "/home/lab/isabella/.pyenv/versions/anaconda3-2019.03/envs/ubuntu-gpu/lib/python3.7/site-packages/ipykernel_launcher.py:116: SettingWithCopyWarning: \n",
      "A value is trying to be set on a copy of a slice from a DataFrame.\n",
      "Try using .loc[row_indexer,col_indexer] = value instead\n",
      "\n",
      "See the caveats in the documentation: http://pandas.pydata.org/pandas-docs/stable/user_guide/indexing.html#returning-a-view-versus-a-copy\n",
      "/home/lab/isabella/.pyenv/versions/anaconda3-2019.03/envs/ubuntu-gpu/lib/python3.7/site-packages/ipykernel_launcher.py:117: SettingWithCopyWarning: \n",
      "A value is trying to be set on a copy of a slice from a DataFrame.\n",
      "Try using .loc[row_indexer,col_indexer] = value instead\n",
      "\n",
      "See the caveats in the documentation: http://pandas.pydata.org/pandas-docs/stable/user_guide/indexing.html#returning-a-view-versus-a-copy\n",
      "/home/lab/isabella/.pyenv/versions/anaconda3-2019.03/envs/ubuntu-gpu/lib/python3.7/site-packages/ipykernel_launcher.py:118: SettingWithCopyWarning: \n",
      "A value is trying to be set on a copy of a slice from a DataFrame.\n",
      "Try using .loc[row_indexer,col_indexer] = value instead\n",
      "\n",
      "See the caveats in the documentation: http://pandas.pydata.org/pandas-docs/stable/user_guide/indexing.html#returning-a-view-versus-a-copy\n",
      "/home/lab/isabella/.pyenv/versions/anaconda3-2019.03/envs/ubuntu-gpu/lib/python3.7/site-packages/ipykernel_launcher.py:119: SettingWithCopyWarning: \n",
      "A value is trying to be set on a copy of a slice from a DataFrame.\n",
      "Try using .loc[row_indexer,col_indexer] = value instead\n",
      "\n",
      "See the caveats in the documentation: http://pandas.pydata.org/pandas-docs/stable/user_guide/indexing.html#returning-a-view-versus-a-copy\n",
      "/home/lab/isabella/.pyenv/versions/anaconda3-2019.03/envs/ubuntu-gpu/lib/python3.7/site-packages/ipykernel_launcher.py:120: SettingWithCopyWarning: \n",
      "A value is trying to be set on a copy of a slice from a DataFrame.\n",
      "Try using .loc[row_indexer,col_indexer] = value instead\n",
      "\n",
      "See the caveats in the documentation: http://pandas.pydata.org/pandas-docs/stable/user_guide/indexing.html#returning-a-view-versus-a-copy\n",
      "/home/lab/isabella/.pyenv/versions/anaconda3-2019.03/envs/ubuntu-gpu/lib/python3.7/site-packages/ipykernel_launcher.py:121: SettingWithCopyWarning: \n",
      "A value is trying to be set on a copy of a slice from a DataFrame.\n",
      "Try using .loc[row_indexer,col_indexer] = value instead\n",
      "\n",
      "See the caveats in the documentation: http://pandas.pydata.org/pandas-docs/stable/user_guide/indexing.html#returning-a-view-versus-a-copy\n"
     ]
    }
   ],
   "source": [
    "start_date = date(2015,1,1)\n",
    "\n",
    "# (market_train, _) = env.get_training_data()\n",
    "market_train_df = market_train_orig.copy()\n",
    "news_train_df = news_train_orig.copy()\n",
    "print('Market train shape: ',market_train_df.shape)\n",
    "print('News train shape: ', news_train_df.shape)\n",
    "\n",
    "# Sort data\n",
    "market_train_df = market_train_df.sort_values('time')\n",
    "market_train_df['date'] = market_train_df['time'].dt.date\n",
    "\n",
    "# Fill nan\n",
    "market_train_fill = market_train_df\n",
    "column_market = ['returnsClosePrevMktres1','returnsOpenPrevMktres1','returnsClosePrevMktres10', 'returnsOpenPrevMktres10']\n",
    "column_raw = ['returnsClosePrevRaw1', 'returnsOpenPrevRaw1','returnsClosePrevRaw10', 'returnsOpenPrevRaw10']\n",
    "for i in range(len(column_raw)):\n",
    "    market_train_fill[column_market[i]] = market_train_fill[column_market[i]].fillna(market_train_fill[column_raw[i]])\n",
    "market_train_orig = market_train_orig.sort_values('time')\n",
    "news_train_orig = news_train_orig.sort_values('time')\n",
    "market_train_df = market_train_orig.copy()\n",
    "news_train_df = news_train_orig.copy()\n",
    "del market_train_orig\n",
    "del news_train_orig\n",
    "market_train_df = market_train_df.loc[market_train_df['time'].dt.date>=start_date]\n",
    "news_train_df = news_train_df.loc[news_train_df['time'].dt.date>=start_date]\n",
    "market_train_df['close_open_ratio'] = np.abs(market_train_df['close']/market_train_df['open'])\n",
    "threshold = 0.5\n",
    "print('In %i lines price increases by 50%% or more in a day' %(market_train_df['close_open_ratio']>=1.5).sum())\n",
    "print('In %i lines price decreases by 50%% or more in a day' %(market_train_df['close_open_ratio']<=0.5).sum())\n",
    "market_train_df = market_train_df.loc[market_train_df['close_open_ratio'] < 1.5]\n",
    "market_train_df = market_train_df.loc[market_train_df['close_open_ratio'] > 0.5]\n",
    "market_train_df = market_train_df.drop(columns=['close_open_ratio'])\n",
    "\n",
    "from sklearn.feature_extraction.text import CountVectorizer\n",
    "from sklearn.feature_extraction.text import TfidfTransformer\n",
    "from nltk.corpus import stopwords\n",
    "column_market = ['returnsClosePrevMktres1','returnsOpenPrevMktres1','returnsClosePrevMktres10', 'returnsOpenPrevMktres10']\n",
    "column_raw = ['returnsClosePrevRaw1', 'returnsOpenPrevRaw1','returnsClosePrevRaw10', 'returnsOpenPrevRaw10']\n",
    "#the top hundred words.\n",
    "vectorizer = CountVectorizer(max_features=1000, stop_words={\"english\"})\n",
    "#we do this with TF-IDF.\n",
    "X = vectorizer.fit_transform(news_train_df['headline'].values)\n",
    "tf_transformer = TfidfTransformer(use_idf=False).fit(X)\n",
    "X_train_tf = tf_transformer.transform(X)\n",
    "X_train_vals = X_train_tf.mean(axis=1)\n",
    "\n",
    "\n",
    "del vectorizer\n",
    "del X\n",
    "del X_train_tf\n",
    "\n",
    "#mean tf-idf score for news article.\n",
    "d = pd.DataFrame(data=X_train_vals)\n",
    "news_train_df['tf_score'] = d\n",
    "\n",
    "market_train_df = market_train_df.loc[market_train_df['time'].dt.date>=start_date]\n",
    "news_train_df = news_train_df.loc[news_train_df['time'].dt.date>=start_date]\n",
    "\n",
    "#add indicator features\n",
    "market_train_df['rolling_average_close_mean'] = market_train_df.groupby('assetCode')['close'].transform('mean')\n",
    "market_train_df['rolling_average_vol_mean'] = market_train_df.groupby('assetCode')['volume'].transform('mean')\n",
    "market_train_df['rolling_average_close_std'] = market_train_df.groupby('assetCode')['close'].transform('std')\n",
    "market_train_df['rolling_average_vol_std'] = market_train_df.groupby('assetCode')['volume'].transform('std')\n",
    "#some more refined instruments\n",
    "market_train_df['moving_average_7_day'] = market_train_df.groupby('assetCode')['close'].transform(lambda x: x.rolling(window=7).mean())\n",
    "ewma = pd.Series.ewm\n",
    "market_train_df['ewma'] =  market_train_df.groupby('assetCode')['close'].transform(lambda x : ewma(x, span=30).mean())\n",
    "market_train_df['moving_average_7_day'] = market_train_df['moving_average_7_day'].fillna(0)\n",
    "market_train_df['ewma'] = market_train_df['ewma'].fillna(0)\n",
    "for i in range(len(column_raw)):\n",
    "    market_train_df[column_market[i]] = market_train_df[column_market[i]].fillna(market_train_df[column_raw[i]])\n",
    "    print('Removing outliers ...')\n",
    "column_return = column_market + column_raw + ['returnsOpenNextMktres10']\n",
    "orig_len = market_train_df.shape[0]\n",
    "for column in column_return:\n",
    "    market_train_df = market_train_df.loc[market_train_df[column]>=-2]\n",
    "    market_train_df = market_train_df.loc[market_train_df[column]<=2]\n",
    "new_len = market_train_df.shape[0]\n",
    "rmv_len = np.abs(orig_len-new_len)\n",
    "print('There were %i lines removed' %rmv_len)\n",
    "print('Removing strange data ...')\n",
    "orig_len = market_train_df.shape[0]\n",
    "market_train_df = market_train_df[~market_train_df['assetCode'].isin(['PGN.N','EBRYY.OB'])]\n",
    "#market_train_df = market_train_df[~market_train_df['assetName'].isin(['Unknown'])]\n",
    "new_len = market_train_df.shape[0]\n",
    "rmv_len = np.abs(orig_len-new_len)\n",
    "print('There were %i lines removed' %rmv_len)\n",
    "# Function to remove outliers\n",
    "def remove_outliers(data_frame, column_list, low=0.02, high=0.98):\n",
    "    for column in column_list:\n",
    "        this_column = data_frame[column]\n",
    "        quant_df = this_column.quantile([low,high])\n",
    "        low_limit = quant_df[low]\n",
    "        high_limit = quant_df[high]\n",
    "        data_frame[column] = data_frame[column].clip(lower=low_limit, upper=high_limit)\n",
    "    return data_frame\n",
    "columns_outlier = ['takeSequence', 'bodySize', 'sentenceCount', 'wordCount', 'sentimentWordCount', 'firstMentionSentence','noveltyCount12H',\\\n",
    "                  'noveltyCount24H', 'noveltyCount3D', 'noveltyCount5D', 'noveltyCount7D', 'volumeCounts12H', 'volumeCounts24H',\\\n",
    "                  'volumeCounts3D','volumeCounts5D','volumeCounts7D']\n",
    "print('Clipping news outliers ...')\n",
    "news_train_df = remove_outliers(news_train_df, columns_outlier)\n",
    "asset_code_dict = {k: v for v, k in enumerate(market_train_df['assetCode'].unique())}\n",
    "drop_columns = [col for col in news_train_df.columns if col not in ['sourceTimestamp', 'urgency', 'takeSequence', 'bodySize', 'companyCount', \n",
    "               'sentenceCount', 'firstMentionSentence', 'relevance','firstCreated', 'assetCodes']]\n",
    "columns_news = ['firstCreated','relevance','sentimentClass','sentimentNegative','sentimentNeutral',\n",
    "               'sentimentPositive','noveltyCount24H','noveltyCount7D','volumeCounts24H','volumeCounts7D','assetCodes','sourceTimestamp',\n",
    "               'assetName','audiences', 'urgency', 'takeSequence', 'bodySize', 'companyCount', \n",
    "               'sentenceCount', 'firstMentionSentence','time', 'tf_score']\n",
    "def data_prep(market_df,news_df):\n",
    "    market_df['date'] = market_df.time.dt.date\n",
    "    market_df['close_to_open'] = market_df['close'] / market_df['open']\n",
    "    market_df.drop(['time'], axis=1, inplace=True)\n",
    "    \n",
    "    news_df = news_df[columns_news]\n",
    "    news_df['sourceTimestamp']= news_df.sourceTimestamp.dt.hour\n",
    "    news_df['firstCreated'] = news_df.firstCreated.dt.date\n",
    "    news_df['assetCodesLen'] = news_df['assetCodes'].map(lambda x: len(eval(x)))\n",
    "    news_df['assetCodes'] = news_df['assetCodes'].map(lambda x: list(eval(x))[0])\n",
    "    news_df['asset_sentiment_count'] = news_df.groupby(['assetName', 'sentimentClass'])['time'].transform('count')\n",
    "    news_df['len_audiences'] = news_train_df['audiences'].map(lambda x: len(eval(x)))\n",
    "    kcol = ['firstCreated', 'assetCodes']\n",
    "    news_df = news_df.groupby(kcol, as_index=False).mean()\n",
    "    market_df = pd.merge(market_df, news_df, how='left', left_on=['date', 'assetCode'], \n",
    "                            right_on=['firstCreated', 'assetCodes'])\n",
    "    del news_df\n",
    "#     market_df['assetCodeT'] = market_df['assetCode'].map(asset_code_dict)\n",
    "    market_df = market_df.drop(columns = ['firstCreated','assetCodes','assetName']).fillna(0) \n",
    "#     print(market_df.count)\n",
    "    return market_df\n",
    "print('Merging data ...')\n",
    "market_train_df = data_prep(market_train_df, news_train_df)\n",
    "market_train_df = market_train_df.loc[market_train_df['date']>=start_date]\n",
    "market_train = market_train_df\n",
    "\n",
    "del market_train_df"
   ]
  },
  {
   "cell_type": "code",
   "execution_count": 10,
   "metadata": {
    "_uuid": "05f7dec87a5f584037d01bd19ed066f5fd944aaf"
   },
   "outputs": [
    {
     "data": {
      "text/html": [
       "<div>\n",
       "<style scoped>\n",
       "    .dataframe tbody tr th:only-of-type {\n",
       "        vertical-align: middle;\n",
       "    }\n",
       "\n",
       "    .dataframe tbody tr th {\n",
       "        vertical-align: top;\n",
       "    }\n",
       "\n",
       "    .dataframe thead th {\n",
       "        text-align: right;\n",
       "    }\n",
       "</style>\n",
       "<table border=\"1\" class=\"dataframe\">\n",
       "  <thead>\n",
       "    <tr style=\"text-align: right;\">\n",
       "      <th></th>\n",
       "      <th>Unnamed: 0</th>\n",
       "      <th>volume</th>\n",
       "      <th>close</th>\n",
       "      <th>open</th>\n",
       "      <th>returnsClosePrevRaw1</th>\n",
       "      <th>returnsOpenPrevRaw1</th>\n",
       "      <th>returnsClosePrevMktres1</th>\n",
       "      <th>returnsOpenPrevMktres1</th>\n",
       "      <th>returnsClosePrevRaw10</th>\n",
       "      <th>returnsOpenPrevRaw10</th>\n",
       "      <th>...</th>\n",
       "      <th>urgency</th>\n",
       "      <th>takeSequence</th>\n",
       "      <th>bodySize</th>\n",
       "      <th>companyCount</th>\n",
       "      <th>sentenceCount</th>\n",
       "      <th>firstMentionSentence</th>\n",
       "      <th>tf_score</th>\n",
       "      <th>assetCodesLen</th>\n",
       "      <th>asset_sentiment_count</th>\n",
       "      <th>len_audiences</th>\n",
       "    </tr>\n",
       "  </thead>\n",
       "  <tbody>\n",
       "    <tr>\n",
       "      <td>count</td>\n",
       "      <td>892018.000</td>\n",
       "      <td>8.920180e+05</td>\n",
       "      <td>892018.000</td>\n",
       "      <td>892018.000</td>\n",
       "      <td>892018.000</td>\n",
       "      <td>892018.000</td>\n",
       "      <td>892018.000</td>\n",
       "      <td>892018.000</td>\n",
       "      <td>892018.000</td>\n",
       "      <td>892018.000</td>\n",
       "      <td>...</td>\n",
       "      <td>892018.000</td>\n",
       "      <td>892018.000</td>\n",
       "      <td>892018.000</td>\n",
       "      <td>892018.000</td>\n",
       "      <td>892018.000</td>\n",
       "      <td>892018.000</td>\n",
       "      <td>892018.0</td>\n",
       "      <td>892018.000</td>\n",
       "      <td>892018.000</td>\n",
       "      <td>892018.000</td>\n",
       "    </tr>\n",
       "    <tr>\n",
       "      <td>mean</td>\n",
       "      <td>3626812.470</td>\n",
       "      <td>2.498426e+06</td>\n",
       "      <td>48.487</td>\n",
       "      <td>48.478</td>\n",
       "      <td>0.000</td>\n",
       "      <td>0.000</td>\n",
       "      <td>0.000</td>\n",
       "      <td>0.000</td>\n",
       "      <td>0.004</td>\n",
       "      <td>0.004</td>\n",
       "      <td>...</td>\n",
       "      <td>0.506</td>\n",
       "      <td>0.340</td>\n",
       "      <td>855.555</td>\n",
       "      <td>1.244</td>\n",
       "      <td>5.051</td>\n",
       "      <td>0.932</td>\n",
       "      <td>0.0</td>\n",
       "      <td>0.285</td>\n",
       "      <td>83.774</td>\n",
       "      <td>0.789</td>\n",
       "    </tr>\n",
       "    <tr>\n",
       "      <td>std</td>\n",
       "      <td>257550.446</td>\n",
       "      <td>5.593769e+06</td>\n",
       "      <td>57.967</td>\n",
       "      <td>57.963</td>\n",
       "      <td>0.024</td>\n",
       "      <td>0.024</td>\n",
       "      <td>0.021</td>\n",
       "      <td>0.023</td>\n",
       "      <td>0.076</td>\n",
       "      <td>0.076</td>\n",
       "      <td>...</td>\n",
       "      <td>1.040</td>\n",
       "      <td>1.072</td>\n",
       "      <td>2833.844</td>\n",
       "      <td>5.065</td>\n",
       "      <td>15.355</td>\n",
       "      <td>3.886</td>\n",
       "      <td>0.0</td>\n",
       "      <td>0.648</td>\n",
       "      <td>287.118</td>\n",
       "      <td>2.068</td>\n",
       "    </tr>\n",
       "    <tr>\n",
       "      <td>min</td>\n",
       "      <td>3180756.000</td>\n",
       "      <td>0.000000e+00</td>\n",
       "      <td>0.461</td>\n",
       "      <td>0.462</td>\n",
       "      <td>-0.978</td>\n",
       "      <td>-0.862</td>\n",
       "      <td>-1.236</td>\n",
       "      <td>-0.773</td>\n",
       "      <td>-0.977</td>\n",
       "      <td>-0.829</td>\n",
       "      <td>...</td>\n",
       "      <td>0.000</td>\n",
       "      <td>0.000</td>\n",
       "      <td>0.000</td>\n",
       "      <td>0.000</td>\n",
       "      <td>0.000</td>\n",
       "      <td>0.000</td>\n",
       "      <td>0.0</td>\n",
       "      <td>0.000</td>\n",
       "      <td>0.000</td>\n",
       "      <td>0.000</td>\n",
       "    </tr>\n",
       "    <tr>\n",
       "      <td>25%</td>\n",
       "      <td>3403772.250</td>\n",
       "      <td>5.023482e+05</td>\n",
       "      <td>19.080</td>\n",
       "      <td>19.080</td>\n",
       "      <td>-0.010</td>\n",
       "      <td>-0.010</td>\n",
       "      <td>-0.008</td>\n",
       "      <td>-0.009</td>\n",
       "      <td>-0.033</td>\n",
       "      <td>-0.033</td>\n",
       "      <td>...</td>\n",
       "      <td>0.000</td>\n",
       "      <td>0.000</td>\n",
       "      <td>0.000</td>\n",
       "      <td>0.000</td>\n",
       "      <td>0.000</td>\n",
       "      <td>0.000</td>\n",
       "      <td>0.0</td>\n",
       "      <td>0.000</td>\n",
       "      <td>0.000</td>\n",
       "      <td>0.000</td>\n",
       "    </tr>\n",
       "    <tr>\n",
       "      <td>50%</td>\n",
       "      <td>3626776.500</td>\n",
       "      <td>1.026284e+06</td>\n",
       "      <td>35.050</td>\n",
       "      <td>35.050</td>\n",
       "      <td>0.000</td>\n",
       "      <td>0.000</td>\n",
       "      <td>0.000</td>\n",
       "      <td>0.000</td>\n",
       "      <td>0.003</td>\n",
       "      <td>0.003</td>\n",
       "      <td>...</td>\n",
       "      <td>0.000</td>\n",
       "      <td>0.000</td>\n",
       "      <td>0.000</td>\n",
       "      <td>0.000</td>\n",
       "      <td>0.000</td>\n",
       "      <td>0.000</td>\n",
       "      <td>0.0</td>\n",
       "      <td>0.000</td>\n",
       "      <td>0.000</td>\n",
       "      <td>0.000</td>\n",
       "    </tr>\n",
       "    <tr>\n",
       "      <td>75%</td>\n",
       "      <td>3849847.750</td>\n",
       "      <td>2.365368e+06</td>\n",
       "      <td>60.640</td>\n",
       "      <td>60.610</td>\n",
       "      <td>0.011</td>\n",
       "      <td>0.011</td>\n",
       "      <td>0.008</td>\n",
       "      <td>0.009</td>\n",
       "      <td>0.038</td>\n",
       "      <td>0.038</td>\n",
       "      <td>...</td>\n",
       "      <td>0.000</td>\n",
       "      <td>0.000</td>\n",
       "      <td>0.000</td>\n",
       "      <td>0.000</td>\n",
       "      <td>0.000</td>\n",
       "      <td>0.000</td>\n",
       "      <td>0.0</td>\n",
       "      <td>0.000</td>\n",
       "      <td>0.000</td>\n",
       "      <td>0.000</td>\n",
       "    </tr>\n",
       "    <tr>\n",
       "      <td>max</td>\n",
       "      <td>4072955.000</td>\n",
       "      <td>4.313326e+08</td>\n",
       "      <td>1578.130</td>\n",
       "      <td>1584.440</td>\n",
       "      <td>1.203</td>\n",
       "      <td>1.291</td>\n",
       "      <td>1.200</td>\n",
       "      <td>1.208</td>\n",
       "      <td>1.843</td>\n",
       "      <td>1.728</td>\n",
       "      <td>...</td>\n",
       "      <td>3.000</td>\n",
       "      <td>15.000</td>\n",
       "      <td>36663.620</td>\n",
       "      <td>43.000</td>\n",
       "      <td>148.000</td>\n",
       "      <td>38.000</td>\n",
       "      <td>0.0</td>\n",
       "      <td>8.000</td>\n",
       "      <td>6271.000</td>\n",
       "      <td>25.000</td>\n",
       "    </tr>\n",
       "  </tbody>\n",
       "</table>\n",
       "<p>8 rows × 41 columns</p>\n",
       "</div>"
      ],
      "text/plain": [
       "        Unnamed: 0        volume       close        open  \\\n",
       "count   892018.000  8.920180e+05  892018.000  892018.000   \n",
       "mean   3626812.470  2.498426e+06      48.487      48.478   \n",
       "std     257550.446  5.593769e+06      57.967      57.963   \n",
       "min    3180756.000  0.000000e+00       0.461       0.462   \n",
       "25%    3403772.250  5.023482e+05      19.080      19.080   \n",
       "50%    3626776.500  1.026284e+06      35.050      35.050   \n",
       "75%    3849847.750  2.365368e+06      60.640      60.610   \n",
       "max    4072955.000  4.313326e+08    1578.130    1584.440   \n",
       "\n",
       "       returnsClosePrevRaw1  returnsOpenPrevRaw1  returnsClosePrevMktres1  \\\n",
       "count            892018.000           892018.000               892018.000   \n",
       "mean                  0.000                0.000                    0.000   \n",
       "std                   0.024                0.024                    0.021   \n",
       "min                  -0.978               -0.862                   -1.236   \n",
       "25%                  -0.010               -0.010                   -0.008   \n",
       "50%                   0.000                0.000                    0.000   \n",
       "75%                   0.011                0.011                    0.008   \n",
       "max                   1.203                1.291                    1.200   \n",
       "\n",
       "       returnsOpenPrevMktres1  returnsClosePrevRaw10  returnsOpenPrevRaw10  \\\n",
       "count              892018.000             892018.000            892018.000   \n",
       "mean                    0.000                  0.004                 0.004   \n",
       "std                     0.023                  0.076                 0.076   \n",
       "min                    -0.773                 -0.977                -0.829   \n",
       "25%                    -0.009                 -0.033                -0.033   \n",
       "50%                     0.000                  0.003                 0.003   \n",
       "75%                     0.009                  0.038                 0.038   \n",
       "max                     1.208                  1.843                 1.728   \n",
       "\n",
       "       ...     urgency  takeSequence    bodySize  companyCount  sentenceCount  \\\n",
       "count  ...  892018.000    892018.000  892018.000    892018.000     892018.000   \n",
       "mean   ...       0.506         0.340     855.555         1.244          5.051   \n",
       "std    ...       1.040         1.072    2833.844         5.065         15.355   \n",
       "min    ...       0.000         0.000       0.000         0.000          0.000   \n",
       "25%    ...       0.000         0.000       0.000         0.000          0.000   \n",
       "50%    ...       0.000         0.000       0.000         0.000          0.000   \n",
       "75%    ...       0.000         0.000       0.000         0.000          0.000   \n",
       "max    ...       3.000        15.000   36663.620        43.000        148.000   \n",
       "\n",
       "       firstMentionSentence  tf_score  assetCodesLen  asset_sentiment_count  \\\n",
       "count            892018.000  892018.0     892018.000             892018.000   \n",
       "mean                  0.932       0.0          0.285                 83.774   \n",
       "std                   3.886       0.0          0.648                287.118   \n",
       "min                   0.000       0.0          0.000                  0.000   \n",
       "25%                   0.000       0.0          0.000                  0.000   \n",
       "50%                   0.000       0.0          0.000                  0.000   \n",
       "75%                   0.000       0.0          0.000                  0.000   \n",
       "max                  38.000       0.0          8.000               6271.000   \n",
       "\n",
       "       len_audiences  \n",
       "count     892018.000  \n",
       "mean           0.789  \n",
       "std            2.068  \n",
       "min            0.000  \n",
       "25%            0.000  \n",
       "50%            0.000  \n",
       "75%            0.000  \n",
       "max           25.000  \n",
       "\n",
       "[8 rows x 41 columns]"
      ]
     },
     "execution_count": 10,
     "metadata": {},
     "output_type": "execute_result"
    }
   ],
   "source": [
    "market_train.describe().round(3)"
   ]
  },
  {
   "cell_type": "markdown",
   "metadata": {
    "_uuid": "f7be6288dd6462e2d0b7d5eae2fa70d748a82a1b"
   },
   "source": [
    "# Prepare model"
   ]
  },
  {
   "cell_type": "code",
   "execution_count": 11,
   "metadata": {
    "_uuid": "5dfa1843dfece6fccfca91896ef85a332b55e3e6"
   },
   "outputs": [],
   "source": [
    "# cat_cols = ['assetCode']\n",
    "# num_cols = ['volume',\n",
    "#             'close',\n",
    "#             'open',\n",
    "#             'returnsClosePrevRaw1',\n",
    "#             'returnsOpenPrevRaw1',\n",
    "#             'returnsClosePrevMktres1',\n",
    "#             'returnsOpenPrevMktres1',\n",
    "#             'returnsClosePrevRaw10',\n",
    "#             'returnsOpenPrevRaw10',\n",
    "#             'returnsClosePrevMktres10',\n",
    "#             'returnsOpenPrevMktres10']\n",
    "cat_cols = ['assetCodeT']\n",
    "num_cols = ['volume', 'close', 'open', 'returnsClosePrevRaw1', 'returnsOpenPrevRaw1', 'returnsClosePrevMktres1', 'returnsOpenPrevMktres1', 'returnsClosePrevRaw10', 'returnsOpenPrevRaw10', \n",
    "               'returnsClosePrevMktres10', 'returnsOpenPrevMktres10', 'close_to_open', 'rolling_average_close_mean', 'rolling_average_vol_mean', 'rolling_average_close_std', 'ewma', 'rolling_average_close_std', 'sourceTimestamp', 'urgency', 'companyCount', 'takeSequence', 'bodySize', 'sentenceCount',\n",
    "               'moving_average_7_day','relevance', 'sentimentClass', 'sentimentNegative', 'sentimentNeutral', 'sentimentPositive',\n",
    "               'noveltyCount24H','noveltyCount7D','volumeCounts24H','volumeCounts7D','assetCodesLen', 'asset_sentiment_count', 'len_audiences', 'tf_score']"
   ]
  },
  {
   "cell_type": "code",
   "execution_count": 12,
   "metadata": {
    "_uuid": "e108339134e95473b4a983237d58adb64c3ef64a"
   },
   "outputs": [],
   "source": [
    "from sklearn.model_selection import train_test_split\n",
    "train_indices, val_indices = train_test_split(market_train.index.values,\n",
    "                                              test_size=0.25,\n",
    "                                              random_state=42)"
   ]
  },
  {
   "cell_type": "markdown",
   "metadata": {
    "_uuid": "f51d00dc43857b446ae4a24b3718753f09040fd5"
   },
   "source": [
    "# Handling categorical variables"
   ]
  },
  {
   "cell_type": "code",
   "execution_count": 13,
   "metadata": {
    "_uuid": "301a65b834d8614a914883d49be1860550174f06"
   },
   "outputs": [],
   "source": [
    "def encode(encoder, x):\n",
    "    len_encoder = len(encoder)\n",
    "    try:\n",
    "        id = encoder[x]\n",
    "    except KeyError:\n",
    "        id = len_encoder\n",
    "    return id\n",
    "\n",
    "encoders = [{} for cat in cat_cols]\n",
    "\n",
    "\n",
    "# for i, cat in enumerate(cat_cols):\n",
    "#     print('encoding %s ...' % cat, end=' ')\n",
    "#     encoders[i] = {l: id for id, l in enumerate(market_train.loc[train_indices, cat].astype(str).unique())}\n",
    "#     market_train[cat] = market_train[cat].astype(str).apply(lambda x: encode(encoders[i], x))\n",
    "#     print('Done')\n",
    "\n",
    "market_train['assetCodeT'] = market_train['assetCode'].astype(str).apply(lambda x: encode(encoders[0], x))\n",
    "embed_sizes = [len(encoder) + 1 for encoder in encoders] #+1 for possible unknown assets"
   ]
  },
  {
   "cell_type": "markdown",
   "metadata": {
    "_uuid": "eae09951757845ad5bdf08e004e6477513ed739a"
   },
   "source": [
    "# Define NN Architecture"
   ]
  },
  {
   "cell_type": "code",
   "execution_count": 15,
   "metadata": {
    "_uuid": "f8661c00b3363e610d2ed00fdb86b507a71a41c3"
   },
   "outputs": [
    {
     "name": "stderr",
     "output_type": "stream",
     "text": [
      "Using TensorFlow backend.\n",
      "/home/lab/isabella/.pyenv/versions/anaconda3-2019.03/envs/ubuntu-gpu/lib/python3.7/site-packages/tensorflow/python/framework/dtypes.py:516: FutureWarning: Passing (type, 1) or '1type' as a synonym of type is deprecated; in a future version of numpy, it will be understood as (type, (1,)) / '(1,)type'.\n",
      "  _np_qint8 = np.dtype([(\"qint8\", np.int8, 1)])\n",
      "/home/lab/isabella/.pyenv/versions/anaconda3-2019.03/envs/ubuntu-gpu/lib/python3.7/site-packages/tensorflow/python/framework/dtypes.py:517: FutureWarning: Passing (type, 1) or '1type' as a synonym of type is deprecated; in a future version of numpy, it will be understood as (type, (1,)) / '(1,)type'.\n",
      "  _np_quint8 = np.dtype([(\"quint8\", np.uint8, 1)])\n",
      "/home/lab/isabella/.pyenv/versions/anaconda3-2019.03/envs/ubuntu-gpu/lib/python3.7/site-packages/tensorflow/python/framework/dtypes.py:518: FutureWarning: Passing (type, 1) or '1type' as a synonym of type is deprecated; in a future version of numpy, it will be understood as (type, (1,)) / '(1,)type'.\n",
      "  _np_qint16 = np.dtype([(\"qint16\", np.int16, 1)])\n",
      "/home/lab/isabella/.pyenv/versions/anaconda3-2019.03/envs/ubuntu-gpu/lib/python3.7/site-packages/tensorflow/python/framework/dtypes.py:519: FutureWarning: Passing (type, 1) or '1type' as a synonym of type is deprecated; in a future version of numpy, it will be understood as (type, (1,)) / '(1,)type'.\n",
      "  _np_quint16 = np.dtype([(\"quint16\", np.uint16, 1)])\n",
      "/home/lab/isabella/.pyenv/versions/anaconda3-2019.03/envs/ubuntu-gpu/lib/python3.7/site-packages/tensorflow/python/framework/dtypes.py:520: FutureWarning: Passing (type, 1) or '1type' as a synonym of type is deprecated; in a future version of numpy, it will be understood as (type, (1,)) / '(1,)type'.\n",
      "  _np_qint32 = np.dtype([(\"qint32\", np.int32, 1)])\n",
      "/home/lab/isabella/.pyenv/versions/anaconda3-2019.03/envs/ubuntu-gpu/lib/python3.7/site-packages/tensorflow/python/framework/dtypes.py:525: FutureWarning: Passing (type, 1) or '1type' as a synonym of type is deprecated; in a future version of numpy, it will be understood as (type, (1,)) / '(1,)type'.\n",
      "  np_resource = np.dtype([(\"resource\", np.ubyte, 1)])\n",
      "/home/lab/isabella/.pyenv/versions/anaconda3-2019.03/envs/ubuntu-gpu/lib/python3.7/site-packages/tensorboard/compat/tensorflow_stub/dtypes.py:541: FutureWarning: Passing (type, 1) or '1type' as a synonym of type is deprecated; in a future version of numpy, it will be understood as (type, (1,)) / '(1,)type'.\n",
      "  _np_qint8 = np.dtype([(\"qint8\", np.int8, 1)])\n",
      "/home/lab/isabella/.pyenv/versions/anaconda3-2019.03/envs/ubuntu-gpu/lib/python3.7/site-packages/tensorboard/compat/tensorflow_stub/dtypes.py:542: FutureWarning: Passing (type, 1) or '1type' as a synonym of type is deprecated; in a future version of numpy, it will be understood as (type, (1,)) / '(1,)type'.\n",
      "  _np_quint8 = np.dtype([(\"quint8\", np.uint8, 1)])\n",
      "/home/lab/isabella/.pyenv/versions/anaconda3-2019.03/envs/ubuntu-gpu/lib/python3.7/site-packages/tensorboard/compat/tensorflow_stub/dtypes.py:543: FutureWarning: Passing (type, 1) or '1type' as a synonym of type is deprecated; in a future version of numpy, it will be understood as (type, (1,)) / '(1,)type'.\n",
      "  _np_qint16 = np.dtype([(\"qint16\", np.int16, 1)])\n",
      "/home/lab/isabella/.pyenv/versions/anaconda3-2019.03/envs/ubuntu-gpu/lib/python3.7/site-packages/tensorboard/compat/tensorflow_stub/dtypes.py:544: FutureWarning: Passing (type, 1) or '1type' as a synonym of type is deprecated; in a future version of numpy, it will be understood as (type, (1,)) / '(1,)type'.\n",
      "  _np_quint16 = np.dtype([(\"quint16\", np.uint16, 1)])\n",
      "/home/lab/isabella/.pyenv/versions/anaconda3-2019.03/envs/ubuntu-gpu/lib/python3.7/site-packages/tensorboard/compat/tensorflow_stub/dtypes.py:545: FutureWarning: Passing (type, 1) or '1type' as a synonym of type is deprecated; in a future version of numpy, it will be understood as (type, (1,)) / '(1,)type'.\n",
      "  _np_qint32 = np.dtype([(\"qint32\", np.int32, 1)])\n",
      "/home/lab/isabella/.pyenv/versions/anaconda3-2019.03/envs/ubuntu-gpu/lib/python3.7/site-packages/tensorboard/compat/tensorflow_stub/dtypes.py:550: FutureWarning: Passing (type, 1) or '1type' as a synonym of type is deprecated; in a future version of numpy, it will be understood as (type, (1,)) / '(1,)type'.\n",
      "  np_resource = np.dtype([(\"resource\", np.ubyte, 1)])\n",
      "WARNING: Logging before flag parsing goes to stderr.\n",
      "W1112 22:40:38.115479 139694072723264 deprecation.py:323] From /home/lab/isabella/.pyenv/versions/anaconda3-2019.03/envs/ubuntu-gpu/lib/python3.7/site-packages/tensorflow/python/ops/nn_impl.py:180: add_dispatch_support.<locals>.wrapper (from tensorflow.python.ops.array_ops) is deprecated and will be removed in a future version.\n",
      "Instructions for updating:\n",
      "Use tf.where in 2.0, which has the same broadcast rule as np.where\n"
     ]
    }
   ],
   "source": [
    "from keras.models import Model\n",
    "from keras.layers import Input, Dense, Embedding, Concatenate, Flatten, BatchNormalization, Dropout\n",
    "from keras.losses import binary_crossentropy\n",
    "\n",
    "categorical_inputs = []\n",
    "for cat in cat_cols:\n",
    "    categorical_inputs.append(Input(shape=[1], name=cat))\n",
    "\n",
    "categorical_embeddings = []\n",
    "for i, cat in enumerate(cat_cols):\n",
    "    categorical_embeddings.append(Embedding(embed_sizes[i], 10)(categorical_inputs[i]))\n",
    "\n",
    "#categorical_logits = Concatenate()([Flatten()(cat_emb) for cat_emb in categorical_embeddings])\n",
    "categorical_logits = Flatten()(categorical_embeddings[0])\n",
    "categorical_logits = Dense(32,activation='relu')(categorical_logits)\n",
    "categorical_logits = Dropout(0.5)(categorical_logits)\n",
    "categorical_logits = BatchNormalization()(categorical_logits)\n",
    "categorical_logits = Dense(32,activation='relu')(categorical_logits)\n",
    "\n",
    "numerical_inputs = Input(shape=(len(num_cols),), name='num')\n",
    "numerical_logits = numerical_inputs\n",
    "numerical_logits = BatchNormalization()(numerical_logits)\n",
    "numerical_logits = Dense(128,activation='relu')(numerical_logits)\n",
    "\n",
    "numerical_logits = Dropout(0.5)(numerical_logits)\n",
    "numerical_logits = BatchNormalization()(numerical_logits)\n",
    "numerical_logits = Dense(128,activation='relu')(numerical_logits)\n",
    "numerical_logits = Dense(64,activation='relu')(numerical_logits)\n",
    "\n",
    "logits = Concatenate()([numerical_logits,categorical_logits])\n",
    "logits = Dense(64,activation='relu')(logits)\n",
    "out = Dense(1, activation='sigmoid')(logits)\n",
    "\n",
    "model = Model(inputs = categorical_inputs + [numerical_inputs], outputs=out)\n",
    "model.compile(optimizer='adam',loss=binary_crossentropy)"
   ]
  },
  {
   "cell_type": "code",
   "execution_count": 17,
   "metadata": {
    "_uuid": "fd6ac097d55ae74d4b7e660958c3bb00e8bc5569"
   },
   "outputs": [
    {
     "ename": "ImportError",
     "evalue": "Failed to import `pydot`. Please install `pydot`. For example with `pip install pydot`.",
     "output_type": "error",
     "traceback": [
      "\u001b[0;31m---------------------------------------------------------------------------\u001b[0m",
      "\u001b[0;31mImportError\u001b[0m                               Traceback (most recent call last)",
      "\u001b[0;32m<ipython-input-17-51d5c639b95b>\u001b[0m in \u001b[0;36m<module>\u001b[0;34m\u001b[0m\n\u001b[1;32m      1\u001b[0m \u001b[0;32mfrom\u001b[0m \u001b[0mkeras\u001b[0m\u001b[0;34m.\u001b[0m\u001b[0mutils\u001b[0m \u001b[0;32mimport\u001b[0m \u001b[0mplot_model\u001b[0m\u001b[0;34m\u001b[0m\u001b[0;34m\u001b[0m\u001b[0m\n\u001b[0;32m----> 2\u001b[0;31m \u001b[0mplot_model\u001b[0m\u001b[0;34m(\u001b[0m\u001b[0mmodel\u001b[0m\u001b[0;34m,\u001b[0m \u001b[0mto_file\u001b[0m\u001b[0;34m=\u001b[0m\u001b[0;34m'TS-NN-model.png'\u001b[0m\u001b[0;34m)\u001b[0m\u001b[0;34m\u001b[0m\u001b[0;34m\u001b[0m\u001b[0m\n\u001b[0m",
      "\u001b[0;32m~/.pyenv/versions/anaconda3-2019.03/envs/ubuntu-gpu/lib/python3.7/site-packages/keras/utils/vis_utils.py\u001b[0m in \u001b[0;36mplot_model\u001b[0;34m(model, to_file, show_shapes, show_layer_names, rankdir, expand_nested, dpi)\u001b[0m\n\u001b[1;32m    238\u001b[0m     \"\"\"\n\u001b[1;32m    239\u001b[0m     dot = model_to_dot(model, show_shapes, show_layer_names, rankdir,\n\u001b[0;32m--> 240\u001b[0;31m                        expand_nested, dpi)\n\u001b[0m\u001b[1;32m    241\u001b[0m     \u001b[0m_\u001b[0m\u001b[0;34m,\u001b[0m \u001b[0mextension\u001b[0m \u001b[0;34m=\u001b[0m \u001b[0mos\u001b[0m\u001b[0;34m.\u001b[0m\u001b[0mpath\u001b[0m\u001b[0;34m.\u001b[0m\u001b[0msplitext\u001b[0m\u001b[0;34m(\u001b[0m\u001b[0mto_file\u001b[0m\u001b[0;34m)\u001b[0m\u001b[0;34m\u001b[0m\u001b[0;34m\u001b[0m\u001b[0m\n\u001b[1;32m    242\u001b[0m     \u001b[0;32mif\u001b[0m \u001b[0;32mnot\u001b[0m \u001b[0mextension\u001b[0m\u001b[0;34m:\u001b[0m\u001b[0;34m\u001b[0m\u001b[0;34m\u001b[0m\u001b[0m\n",
      "\u001b[0;32m~/.pyenv/versions/anaconda3-2019.03/envs/ubuntu-gpu/lib/python3.7/site-packages/keras/utils/vis_utils.py\u001b[0m in \u001b[0;36mmodel_to_dot\u001b[0;34m(model, show_shapes, show_layer_names, rankdir, expand_nested, dpi, subgraph)\u001b[0m\n\u001b[1;32m     77\u001b[0m     \u001b[0;32mfrom\u001b[0m \u001b[0;34m.\u001b[0m\u001b[0;34m.\u001b[0m\u001b[0mmodels\u001b[0m \u001b[0;32mimport\u001b[0m \u001b[0mSequential\u001b[0m\u001b[0;34m\u001b[0m\u001b[0;34m\u001b[0m\u001b[0m\n\u001b[1;32m     78\u001b[0m \u001b[0;34m\u001b[0m\u001b[0m\n\u001b[0;32m---> 79\u001b[0;31m     \u001b[0m_check_pydot\u001b[0m\u001b[0;34m(\u001b[0m\u001b[0;34m)\u001b[0m\u001b[0;34m\u001b[0m\u001b[0;34m\u001b[0m\u001b[0m\n\u001b[0m\u001b[1;32m     80\u001b[0m     \u001b[0;32mif\u001b[0m \u001b[0msubgraph\u001b[0m\u001b[0;34m:\u001b[0m\u001b[0;34m\u001b[0m\u001b[0;34m\u001b[0m\u001b[0m\n\u001b[1;32m     81\u001b[0m         \u001b[0mdot\u001b[0m \u001b[0;34m=\u001b[0m \u001b[0mpydot\u001b[0m\u001b[0;34m.\u001b[0m\u001b[0mCluster\u001b[0m\u001b[0;34m(\u001b[0m\u001b[0mstyle\u001b[0m\u001b[0;34m=\u001b[0m\u001b[0;34m'dashed'\u001b[0m\u001b[0;34m,\u001b[0m \u001b[0mgraph_name\u001b[0m\u001b[0;34m=\u001b[0m\u001b[0mmodel\u001b[0m\u001b[0;34m.\u001b[0m\u001b[0mname\u001b[0m\u001b[0;34m)\u001b[0m\u001b[0;34m\u001b[0m\u001b[0;34m\u001b[0m\u001b[0m\n",
      "\u001b[0;32m~/.pyenv/versions/anaconda3-2019.03/envs/ubuntu-gpu/lib/python3.7/site-packages/keras/utils/vis_utils.py\u001b[0m in \u001b[0;36m_check_pydot\u001b[0;34m()\u001b[0m\n\u001b[1;32m     20\u001b[0m     \u001b[0;32mif\u001b[0m \u001b[0mpydot\u001b[0m \u001b[0;32mis\u001b[0m \u001b[0;32mNone\u001b[0m\u001b[0;34m:\u001b[0m\u001b[0;34m\u001b[0m\u001b[0;34m\u001b[0m\u001b[0m\n\u001b[1;32m     21\u001b[0m         raise ImportError(\n\u001b[0;32m---> 22\u001b[0;31m             \u001b[0;34m'Failed to import `pydot`. '\u001b[0m\u001b[0;34m\u001b[0m\u001b[0;34m\u001b[0m\u001b[0m\n\u001b[0m\u001b[1;32m     23\u001b[0m             \u001b[0;34m'Please install `pydot`. '\u001b[0m\u001b[0;34m\u001b[0m\u001b[0;34m\u001b[0m\u001b[0m\n\u001b[1;32m     24\u001b[0m             'For example with `pip install pydot`.')\n",
      "\u001b[0;31mImportError\u001b[0m: Failed to import `pydot`. Please install `pydot`. For example with `pip install pydot`."
     ]
    }
   ],
   "source": [
    "from keras.utils import plot_model\n",
    "plot_model(model, to_file='TS-NN-model.png')"
   ]
  },
  {
   "cell_type": "code",
   "execution_count": 18,
   "metadata": {
    "_uuid": "fecfb9cfcf401170cc8e010d38ff08c11d7387bb"
   },
   "outputs": [
    {
     "ename": "ImportError",
     "evalue": "Failed to import `pydot`. Please install `pydot`. For example with `pip install pydot`.",
     "output_type": "error",
     "traceback": [
      "\u001b[0;31m---------------------------------------------------------------------------\u001b[0m",
      "\u001b[0;31mImportError\u001b[0m                               Traceback (most recent call last)",
      "\u001b[0;32m<ipython-input-18-2cabf02ce23a>\u001b[0m in \u001b[0;36m<module>\u001b[0;34m\u001b[0m\n\u001b[1;32m      2\u001b[0m \u001b[0;32mfrom\u001b[0m \u001b[0mkeras\u001b[0m\u001b[0;34m.\u001b[0m\u001b[0mutils\u001b[0m\u001b[0;34m.\u001b[0m\u001b[0mvis_utils\u001b[0m \u001b[0;32mimport\u001b[0m \u001b[0mmodel_to_dot\u001b[0m\u001b[0;34m\u001b[0m\u001b[0;34m\u001b[0m\u001b[0m\n\u001b[1;32m      3\u001b[0m \u001b[0;34m\u001b[0m\u001b[0m\n\u001b[0;32m----> 4\u001b[0;31m \u001b[0mSVG\u001b[0m\u001b[0;34m(\u001b[0m\u001b[0mmodel_to_dot\u001b[0m\u001b[0;34m(\u001b[0m\u001b[0mmodel\u001b[0m\u001b[0;34m)\u001b[0m\u001b[0;34m.\u001b[0m\u001b[0mcreate\u001b[0m\u001b[0;34m(\u001b[0m\u001b[0mprog\u001b[0m\u001b[0;34m=\u001b[0m\u001b[0;34m'dot'\u001b[0m\u001b[0;34m,\u001b[0m \u001b[0mformat\u001b[0m\u001b[0;34m=\u001b[0m\u001b[0;34m'svg'\u001b[0m\u001b[0;34m)\u001b[0m\u001b[0;34m)\u001b[0m\u001b[0;34m\u001b[0m\u001b[0;34m\u001b[0m\u001b[0m\n\u001b[0m",
      "\u001b[0;32m~/.pyenv/versions/anaconda3-2019.03/envs/ubuntu-gpu/lib/python3.7/site-packages/keras/utils/vis_utils.py\u001b[0m in \u001b[0;36mmodel_to_dot\u001b[0;34m(model, show_shapes, show_layer_names, rankdir, expand_nested, dpi, subgraph)\u001b[0m\n\u001b[1;32m     77\u001b[0m     \u001b[0;32mfrom\u001b[0m \u001b[0;34m.\u001b[0m\u001b[0;34m.\u001b[0m\u001b[0mmodels\u001b[0m \u001b[0;32mimport\u001b[0m \u001b[0mSequential\u001b[0m\u001b[0;34m\u001b[0m\u001b[0;34m\u001b[0m\u001b[0m\n\u001b[1;32m     78\u001b[0m \u001b[0;34m\u001b[0m\u001b[0m\n\u001b[0;32m---> 79\u001b[0;31m     \u001b[0m_check_pydot\u001b[0m\u001b[0;34m(\u001b[0m\u001b[0;34m)\u001b[0m\u001b[0;34m\u001b[0m\u001b[0;34m\u001b[0m\u001b[0m\n\u001b[0m\u001b[1;32m     80\u001b[0m     \u001b[0;32mif\u001b[0m \u001b[0msubgraph\u001b[0m\u001b[0;34m:\u001b[0m\u001b[0;34m\u001b[0m\u001b[0;34m\u001b[0m\u001b[0m\n\u001b[1;32m     81\u001b[0m         \u001b[0mdot\u001b[0m \u001b[0;34m=\u001b[0m \u001b[0mpydot\u001b[0m\u001b[0;34m.\u001b[0m\u001b[0mCluster\u001b[0m\u001b[0;34m(\u001b[0m\u001b[0mstyle\u001b[0m\u001b[0;34m=\u001b[0m\u001b[0;34m'dashed'\u001b[0m\u001b[0;34m,\u001b[0m \u001b[0mgraph_name\u001b[0m\u001b[0;34m=\u001b[0m\u001b[0mmodel\u001b[0m\u001b[0;34m.\u001b[0m\u001b[0mname\u001b[0m\u001b[0;34m)\u001b[0m\u001b[0;34m\u001b[0m\u001b[0;34m\u001b[0m\u001b[0m\n",
      "\u001b[0;32m~/.pyenv/versions/anaconda3-2019.03/envs/ubuntu-gpu/lib/python3.7/site-packages/keras/utils/vis_utils.py\u001b[0m in \u001b[0;36m_check_pydot\u001b[0;34m()\u001b[0m\n\u001b[1;32m     20\u001b[0m     \u001b[0;32mif\u001b[0m \u001b[0mpydot\u001b[0m \u001b[0;32mis\u001b[0m \u001b[0;32mNone\u001b[0m\u001b[0;34m:\u001b[0m\u001b[0;34m\u001b[0m\u001b[0;34m\u001b[0m\u001b[0m\n\u001b[1;32m     21\u001b[0m         raise ImportError(\n\u001b[0;32m---> 22\u001b[0;31m             \u001b[0;34m'Failed to import `pydot`. '\u001b[0m\u001b[0;34m\u001b[0m\u001b[0;34m\u001b[0m\u001b[0m\n\u001b[0m\u001b[1;32m     23\u001b[0m             \u001b[0;34m'Please install `pydot`. '\u001b[0m\u001b[0;34m\u001b[0m\u001b[0;34m\u001b[0m\u001b[0m\n\u001b[1;32m     24\u001b[0m             'For example with `pip install pydot`.')\n",
      "\u001b[0;31mImportError\u001b[0m: Failed to import `pydot`. Please install `pydot`. For example with `pip install pydot`."
     ]
    }
   ],
   "source": [
    "from IPython.display import SVG\n",
    "from keras.utils.vis_utils import model_to_dot\n",
    "\n",
    "SVG(model_to_dot(model).create(prog='dot', format='svg'))"
   ]
  },
  {
   "cell_type": "code",
   "execution_count": 19,
   "metadata": {},
   "outputs": [
    {
     "name": "stdout",
     "output_type": "stream",
     "text": [
      "Model: \"model_1\"\n",
      "__________________________________________________________________________________________________\n",
      "Layer (type)                    Output Shape         Param #     Connected to                     \n",
      "==================================================================================================\n",
      "num (InputLayer)                (None, 37)           0                                            \n",
      "__________________________________________________________________________________________________\n",
      "assetCodeT (InputLayer)         (None, 1)            0                                            \n",
      "__________________________________________________________________________________________________\n",
      "batch_normalization_2 (BatchNor (None, 37)           148         num[0][0]                        \n",
      "__________________________________________________________________________________________________\n",
      "embedding_1 (Embedding)         (None, 1, 10)        10          assetCodeT[0][0]                 \n",
      "__________________________________________________________________________________________________\n",
      "dense_3 (Dense)                 (None, 128)          4864        batch_normalization_2[0][0]      \n",
      "__________________________________________________________________________________________________\n",
      "flatten_1 (Flatten)             (None, 10)           0           embedding_1[0][0]                \n",
      "__________________________________________________________________________________________________\n",
      "dropout_2 (Dropout)             (None, 128)          0           dense_3[0][0]                    \n",
      "__________________________________________________________________________________________________\n",
      "dense_1 (Dense)                 (None, 32)           352         flatten_1[0][0]                  \n",
      "__________________________________________________________________________________________________\n",
      "batch_normalization_3 (BatchNor (None, 128)          512         dropout_2[0][0]                  \n",
      "__________________________________________________________________________________________________\n",
      "dropout_1 (Dropout)             (None, 32)           0           dense_1[0][0]                    \n",
      "__________________________________________________________________________________________________\n",
      "dense_4 (Dense)                 (None, 128)          16512       batch_normalization_3[0][0]      \n",
      "__________________________________________________________________________________________________\n",
      "batch_normalization_1 (BatchNor (None, 32)           128         dropout_1[0][0]                  \n",
      "__________________________________________________________________________________________________\n",
      "dense_5 (Dense)                 (None, 64)           8256        dense_4[0][0]                    \n",
      "__________________________________________________________________________________________________\n",
      "dense_2 (Dense)                 (None, 32)           1056        batch_normalization_1[0][0]      \n",
      "__________________________________________________________________________________________________\n",
      "concatenate_1 (Concatenate)     (None, 96)           0           dense_5[0][0]                    \n",
      "                                                                 dense_2[0][0]                    \n",
      "__________________________________________________________________________________________________\n",
      "dense_6 (Dense)                 (None, 64)           6208        concatenate_1[0][0]              \n",
      "__________________________________________________________________________________________________\n",
      "dense_7 (Dense)                 (None, 1)            65          dense_6[0][0]                    \n",
      "==================================================================================================\n",
      "Total params: 38,111\n",
      "Trainable params: 37,717\n",
      "Non-trainable params: 394\n",
      "__________________________________________________________________________________________________\n"
     ]
    }
   ],
   "source": [
    "model.summary()"
   ]
  },
  {
   "cell_type": "code",
   "execution_count": 20,
   "metadata": {},
   "outputs": [],
   "source": [
    "def get_input(market_train, indices):\n",
    "    X_num = market_train.loc[indices, num_cols].values\n",
    "    X = {'num':X_num}\n",
    "    for cat in cat_cols:\n",
    "        X[cat] = market_train.loc[indices, cat_cols].values\n",
    "    y = (market_train.loc[indices,'returnsOpenNextMktres10'] >= 0).values\n",
    "    r = market_train.loc[indices,'returnsOpenNextMktres10'].values\n",
    "    u = market_train.loc[indices, 'universe']\n",
    "    d = market_train.loc[indices, 'date']\n",
    "    return X,y,r,u,d\n",
    "\n",
    "# r, u and d are used to calculate the scoring metric\n",
    "X_train,y_train,r_train,u_train,d_train = get_input(market_train, train_indices)\n",
    "X_valid,y_valid,r_valid,u_valid,d_valid = get_input(market_train, val_indices)"
   ]
  },
  {
   "cell_type": "markdown",
   "metadata": {},
   "source": [
    "# Train NN model"
   ]
  },
  {
   "cell_type": "code",
   "execution_count": 22,
   "metadata": {},
   "outputs": [
    {
     "name": "stderr",
     "output_type": "stream",
     "text": [
      "W1112 22:46:00.988638 139694072723264 deprecation_wrapper.py:119] From /home/lab/isabella/.pyenv/versions/anaconda3-2019.03/envs/ubuntu-gpu/lib/python3.7/site-packages/keras/backend/tensorflow_backend.py:422: The name tf.global_variables is deprecated. Please use tf.compat.v1.global_variables instead.\n",
      "\n"
     ]
    },
    {
     "name": "stdout",
     "output_type": "stream",
     "text": [
      "Train on 669013 samples, validate on 223005 samples\n",
      "Epoch 1/5\n",
      "669013/669013 [==============================] - 268s 401us/step - loss: 0.6885 - val_loss: 0.6857\n",
      "\n",
      "Epoch 00001: val_loss improved from inf to 0.68570, saving model to models/TS-NN.hdf5\n",
      "Epoch 2/5\n",
      "669013/669013 [==============================] - 260s 388us/step - loss: 0.6848 - val_loss: 0.6831\n",
      "\n",
      "Epoch 00002: val_loss improved from 0.68570 to 0.68305, saving model to models/TS-NN.hdf5\n",
      "Epoch 3/5\n",
      "669013/669013 [==============================] - 264s 394us/step - loss: 0.6832 - val_loss: 0.6812\n",
      "\n",
      "Epoch 00003: val_loss improved from 0.68305 to 0.68118, saving model to models/TS-NN.hdf5\n",
      "Epoch 4/5\n",
      "669013/669013 [==============================] - 259s 388us/step - loss: 0.6825 - val_loss: 0.6806\n",
      "\n",
      "Epoch 00004: val_loss improved from 0.68118 to 0.68065, saving model to models/TS-NN.hdf5\n",
      "Epoch 5/5\n",
      "669013/669013 [==============================] - 259s 387us/step - loss: 0.6820 - val_loss: 0.6806\n",
      "\n",
      "Epoch 00005: val_loss improved from 0.68065 to 0.68063, saving model to models/TS-NN.hdf5\n"
     ]
    },
    {
     "data": {
      "text/plain": [
       "<keras.callbacks.callbacks.History at 0x7f0cb4ddae10>"
      ]
     },
     "execution_count": 22,
     "metadata": {},
     "output_type": "execute_result"
    }
   ],
   "source": [
    "from keras.callbacks import EarlyStopping, ModelCheckpoint, ReduceLROnPlateau\n",
    "\n",
    "check_point = ModelCheckpoint('models/TS-NN.hdf5',verbose=True, save_best_only=True)\n",
    "early_stop = EarlyStopping(patience=5,verbose=True)\n",
    "model.fit(X_train,y_train.astype(int),\n",
    "          validation_data=(X_valid,y_valid\n",
    "                           .astype(int)),\n",
    "          epochs=5,\n",
    "          verbose=True,\n",
    "          callbacks=[early_stop,check_point]) "
   ]
  },
  {
   "cell_type": "markdown",
   "metadata": {},
   "source": [
    "# Evaluation of Validation Set"
   ]
  },
  {
   "cell_type": "code",
   "execution_count": 31,
   "metadata": {},
   "outputs": [
    {
     "name": "stdout",
     "output_type": "stream",
     "text": [
      "0.5647496692899262\n"
     ]
    },
    {
     "data": {
      "image/png": "[encoded data removed]",
      "text/plain": [
       "<Figure size 432x288 with 1 Axes>"
      ]
     },
     "metadata": {
      "needs_background": "light"
     },
     "output_type": "display_data"
    }
   ],
   "source": [
    "# distribution of confidence that will be used as submission\n",
    "model.load_weights('models/TS-NN.hdf5')\n",
    "confidence_valid = model.predict(X_valid)[:,0]*2 - 1\n",
    "print(accuracy_score(confidence_valid>0,y_valid))\n",
    "plt.hist(confidence_valid, bins='auto')\n",
    "plt.title(\"validation confidence\")\n",
    "plt.show()"
   ]
  },
  {
   "cell_type": "code",
   "execution_count": 27,
   "metadata": {},
   "outputs": [
    {
     "data": {
      "text/plain": [
       "array([False,  True,  True, ..., False, False,  True])"
      ]
     },
     "execution_count": 27,
     "metadata": {},
     "output_type": "execute_result"
    }
   ],
   "source": [
    "y_train"
   ]
  },
  {
   "cell_type": "code",
   "execution_count": 29,
   "metadata": {},
   "outputs": [
    {
     "data": {
      "text/plain": [
       "array([ True,  True,  True, ...,  True, False, False])"
      ]
     },
     "execution_count": 29,
     "metadata": {},
     "output_type": "execute_result"
    }
   ],
   "source": [
    "y_valid"
   ]
  },
  {
   "cell_type": "code",
   "execution_count": 28,
   "metadata": {},
   "outputs": [
    {
     "data": {
      "text/plain": [
       "array([ 0.01815718,  0.03168187,  0.00648607, ...,  0.06808248,\n",
       "       -0.02604886, -0.01458425])"
      ]
     },
     "execution_count": 28,
     "metadata": {},
     "output_type": "execute_result"
    }
   ],
   "source": [
    "r_valid"
   ]
  },
  {
   "cell_type": "code",
   "execution_count": 32,
   "metadata": {},
   "outputs": [
    {
     "data": {
      "image/png": "[encoded data removed]",
      "text/plain": [
       "<Figure size 432x288 with 1 Axes>"
      ]
     },
     "metadata": {
      "needs_background": "light"
     },
     "output_type": "display_data"
    }
   ],
   "source": [
    "plt.hist(r_valid, bins='auto')\n",
    "plt.title(\"validation returnsOpenNextMktres10\")\n",
    "plt.show()"
   ]
  },
  {
   "cell_type": "code",
   "execution_count": 34,
   "metadata": {},
   "outputs": [],
   "source": [
    "# calculation of actual metric that is used to calculate final score\n",
    "r_valid = r_valid.clip(-1,1) # get rid of outliers. Where do they come from??\n",
    "x_t_i = confidence_valid * r_valid * u_valid\n",
    "data = {'day' : d_valid, 'x_t_i' : x_t_i}\n",
    "df = pd.DataFrame(data)"
   ]
  },
  {
   "cell_type": "code",
   "execution_count": 35,
   "metadata": {},
   "outputs": [
    {
     "data": {
      "text/html": [
       "<div>\n",
       "<style scoped>\n",
       "    .dataframe tbody tr th:only-of-type {\n",
       "        vertical-align: middle;\n",
       "    }\n",
       "\n",
       "    .dataframe tbody tr th {\n",
       "        vertical-align: top;\n",
       "    }\n",
       "\n",
       "    .dataframe thead th {\n",
       "        text-align: right;\n",
       "    }\n",
       "</style>\n",
       "<table border=\"1\" class=\"dataframe\">\n",
       "  <thead>\n",
       "    <tr style=\"text-align: right;\">\n",
       "      <th></th>\n",
       "      <th>day</th>\n",
       "      <th>x_t_i</th>\n",
       "    </tr>\n",
       "  </thead>\n",
       "  <tbody>\n",
       "    <tr>\n",
       "      <td>396263</td>\n",
       "      <td>2015-12-01</td>\n",
       "      <td>0.000000</td>\n",
       "    </tr>\n",
       "    <tr>\n",
       "      <td>452135</td>\n",
       "      <td>2016-01-19</td>\n",
       "      <td>-0.000495</td>\n",
       "    </tr>\n",
       "    <tr>\n",
       "      <td>739527</td>\n",
       "      <td>2016-09-01</td>\n",
       "      <td>-0.000208</td>\n",
       "    </tr>\n",
       "    <tr>\n",
       "      <td>887375</td>\n",
       "      <td>2016-12-28</td>\n",
       "      <td>0.000000</td>\n",
       "    </tr>\n",
       "    <tr>\n",
       "      <td>459293</td>\n",
       "      <td>2016-01-25</td>\n",
       "      <td>0.000000</td>\n",
       "    </tr>\n",
       "  </tbody>\n",
       "</table>\n",
       "</div>"
      ],
      "text/plain": [
       "               day     x_t_i\n",
       "396263  2015-12-01  0.000000\n",
       "452135  2016-01-19 -0.000495\n",
       "739527  2016-09-01 -0.000208\n",
       "887375  2016-12-28  0.000000\n",
       "459293  2016-01-25  0.000000"
      ]
     },
     "execution_count": 35,
     "metadata": {},
     "output_type": "execute_result"
    }
   ],
   "source": [
    "df.head()"
   ]
  },
  {
   "cell_type": "code",
   "execution_count": 36,
   "metadata": {},
   "outputs": [
    {
     "name": "stdout",
     "output_type": "stream",
     "text": [
      "0.7876677904000856\n"
     ]
    }
   ],
   "source": [
    "x_t = df.groupby('day').sum().values.flatten()\n",
    "mean = np.mean(x_t)\n",
    "std = np.std(x_t)\n",
    "score_valid = mean / std\n",
    "print(score_valid)"
   ]
  }
 ],
 "metadata": {
  "kernelspec": {
   "display_name": "Python 3",
   "language": "python",
   "name": "python3"
  },
  "language_info": {
   "codemirror_mode": {
    "name": "ipython",
    "version": 3
   },
   "file_extension": ".py",
   "mimetype": "text/x-python",
   "name": "python",
   "nbconvert_exporter": "python",
   "pygments_lexer": "ipython3",
   "version": "3.7.3"
  }
 },
 "nbformat": 4,
 "nbformat_minor": 1
}
