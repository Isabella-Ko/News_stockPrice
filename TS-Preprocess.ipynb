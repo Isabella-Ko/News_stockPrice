{
 "cells": [
  {
   "cell_type": "code",
   "execution_count": 2,
   "metadata": {},
   "outputs": [],
   "source": [
    "import nltk\n",
    "import pandas as pd\n",
    "import numpy as np\n",
    "import re\n",
    "import gensim"
   ]
  },
  {
   "cell_type": "code",
   "execution_count": 5,
   "metadata": {},
   "outputs": [],
   "source": [
    "news_sampled_df = pd.read_csv(\"dataset/news_sampled_df.csv\")\n",
    "# stocks_df = pd.read_csv(\"dataset/DJIA_table.csv\").iloc[::-1] # reverse\n",
    "# news_stocks_df = news_df.merge(stocks_df, on=\"Date\")"
   ]
  },
  {
   "cell_type": "code",
   "execution_count": 21,
   "metadata": {},
   "outputs": [],
   "source": [
    "# df_sampled_news = news_df.sample(n=1000000, random_state=2019)\n",
    "# df_sampled_news.to_csv(\"dataset/news_sampled_df.csv\")"
   ]
  },
  {
   "cell_type": "code",
   "execution_count": 13,
   "metadata": {},
   "outputs": [],
   "source": [
    "def convert_sentiment(row):\n",
    "    return 0.0 * row[\"sentimentNegative\"] + 0.5 * row[\"sentimentNeutral\"] + 1.0 * row[\"sentimentPositive\"]\n",
    "    \n",
    "news_sampled_df[\"sentimentScore\"] = news_sampled_df.apply(convert_sentiment, axis=1)"
   ]
  },
  {
   "cell_type": "code",
   "execution_count": 32,
   "metadata": {},
   "outputs": [
    {
     "name": "stdout",
     "output_type": "stream",
     "text": [
      "0    0.584877\n",
      "dtype: float64\n",
      "0    0.584877\n",
      "Name: sentimentScore, dtype: float64\n",
      "0    0.184302\n",
      "Name: sentimentPositive, dtype: float64\n",
      "0    0.80115\n",
      "Name: sentimentNeutral, dtype: float64\n",
      "0    0.014548\n",
      "Name: sentimentNegative, dtype: float64\n"
     ]
    },
    {
     "data": {
      "text/plain": [
       "'China Digital TV Holding Co Ltd'"
      ]
     },
     "execution_count": 32,
     "metadata": {},
     "output_type": "execute_result"
    }
   ],
   "source": [
    "print(convert_sentiment(news_sampled_df.head(1)))\n",
    "print(news_sampled_df.head(1)[\"sentimentScore\"])\n",
    "print(news_sampled_df.head(1)[\"sentimentPositive\"])\n",
    "print(news_sampled_df.head(1)[\"sentimentNeutral\"])\n",
    "print(news_sampled_df.head(1)[\"sentimentNegative\"])\n",
    "news_sampled_df[\"assetName\"][7]"
   ]
  },
  {
   "cell_type": "code",
   "execution_count": 18,
   "metadata": {},
   "outputs": [],
   "source": [
    "sampled_news_train_df = news_sampled_df.sample(frac=0.8, random_state=2019)\n",
    "sampled_news_test_df = news_sampled_df.drop(sampled_news_train_df.index)"
   ]
  },
  {
   "cell_type": "code",
   "execution_count": 19,
   "metadata": {},
   "outputs": [],
   "source": [
    "stopwords = set(nltk.corpus.stopwords.words('english'))"
   ]
  },
  {
   "cell_type": "code",
   "execution_count": 77,
   "metadata": {},
   "outputs": [],
   "source": [
    "def combine_news(row, remove_stopwords=True):\n",
    "    for i in range(1, top_n_news+1):\n",
    "        col_name = \"Top{}\".format(i)\n",
    "        title = row[col_name]\n",
    "        if type(title) != str:\n",
    "            continue\n",
    "        # Remove everything except a-z A-Z\n",
    "        title = re.sub(\"[^a-zA-Z]\", \" \", title)\n",
    "        title = title[1:].strip().lower()\n",
    "        \n",
    "        # Tokenize\n",
    "        words = title.split()                   \n",
    "        if remove_stopwords:\n",
    "            words = title.split()\n",
    "            words = [w for w in words if not w in stopwords]\n",
    "            title = \" \".join(words)\n",
    "        all_titles.append(title)\n",
    "    \n",
    "    all_titles = \" \".join(all_titles)\n",
    "    return all_titles"
   ]
  },
  {
   "cell_type": "code",
   "execution_count": 78,
   "metadata": {},
   "outputs": [],
   "source": [
    "news_stocks_df[\"All_news\"] = news_stocks_df.apply(\n",
    "    lambda row: combine_news(row), \n",
    "    axis=1)"
   ]
  },
  {
   "cell_type": "code",
   "execution_count": 79,
   "metadata": {},
   "outputs": [],
   "source": [
    "news_stocks_df.to_csv(\"dataset/news_stocks.csv\")"
   ]
  }
 ],
 "metadata": {
  "kernelspec": {
   "display_name": "Python 3",
   "language": "python",
   "name": "python3"
  }
 },
 "nbformat": 4,
 "nbformat_minor": 2
}
